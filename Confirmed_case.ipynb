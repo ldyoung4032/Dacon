{
 "cells": [
  {
   "cell_type": "code",
   "execution_count": 1,
   "metadata": {},
   "outputs": [],
   "source": [
    "import pandas as pd\n",
    "import warnings\n",
    "warnings.filterwarnings('ignore')\n",
    "\n",
    "data = pd.read_csv('./PatientInfo.csv') ## 코로나 시각화 대회의 확진자 정보 데이터 가져오기"
   ]
  },
  {
   "cell_type": "code",
   "execution_count": 2,
   "metadata": {
    "scrolled": false
   },
   "outputs": [
    {
     "data": {
      "text/html": [
       "<div>\n",
       "<style scoped>\n",
       "    .dataframe tbody tr th:only-of-type {\n",
       "        vertical-align: middle;\n",
       "    }\n",
       "\n",
       "    .dataframe tbody tr th {\n",
       "        vertical-align: top;\n",
       "    }\n",
       "\n",
       "    .dataframe thead th {\n",
       "        text-align: right;\n",
       "    }\n",
       "</style>\n",
       "<table border=\"1\" class=\"dataframe\">\n",
       "  <thead>\n",
       "    <tr style=\"text-align: right;\">\n",
       "      <th></th>\n",
       "      <th>patient_id</th>\n",
       "      <th>global_num</th>\n",
       "      <th>sex</th>\n",
       "      <th>birth_year</th>\n",
       "      <th>age</th>\n",
       "      <th>country</th>\n",
       "      <th>province</th>\n",
       "      <th>city</th>\n",
       "      <th>disease</th>\n",
       "      <th>infection_case</th>\n",
       "      <th>infection_order</th>\n",
       "      <th>infected_by</th>\n",
       "      <th>contact_number</th>\n",
       "      <th>symptom_onset_date</th>\n",
       "      <th>confirmed_date</th>\n",
       "      <th>released_date</th>\n",
       "      <th>deceased_date</th>\n",
       "      <th>state</th>\n",
       "    </tr>\n",
       "  </thead>\n",
       "  <tbody>\n",
       "    <tr>\n",
       "      <th>0</th>\n",
       "      <td>1000000001</td>\n",
       "      <td>2.0</td>\n",
       "      <td>male</td>\n",
       "      <td>1964</td>\n",
       "      <td>50s</td>\n",
       "      <td>Korea</td>\n",
       "      <td>Seoul</td>\n",
       "      <td>Gangseo-gu</td>\n",
       "      <td>NaN</td>\n",
       "      <td>overseas inflow</td>\n",
       "      <td>1.0</td>\n",
       "      <td>NaN</td>\n",
       "      <td>75</td>\n",
       "      <td>2020-01-22</td>\n",
       "      <td>2020-01-23</td>\n",
       "      <td>2020-02-05</td>\n",
       "      <td>NaN</td>\n",
       "      <td>released</td>\n",
       "    </tr>\n",
       "    <tr>\n",
       "      <th>1</th>\n",
       "      <td>1000000002</td>\n",
       "      <td>5.0</td>\n",
       "      <td>male</td>\n",
       "      <td>1987</td>\n",
       "      <td>30s</td>\n",
       "      <td>Korea</td>\n",
       "      <td>Seoul</td>\n",
       "      <td>Jungnang-gu</td>\n",
       "      <td>NaN</td>\n",
       "      <td>overseas inflow</td>\n",
       "      <td>1.0</td>\n",
       "      <td>NaN</td>\n",
       "      <td>31</td>\n",
       "      <td>NaN</td>\n",
       "      <td>2020-01-30</td>\n",
       "      <td>2020-03-02</td>\n",
       "      <td>NaN</td>\n",
       "      <td>released</td>\n",
       "    </tr>\n",
       "    <tr>\n",
       "      <th>2</th>\n",
       "      <td>1000000003</td>\n",
       "      <td>6.0</td>\n",
       "      <td>male</td>\n",
       "      <td>1964</td>\n",
       "      <td>50s</td>\n",
       "      <td>Korea</td>\n",
       "      <td>Seoul</td>\n",
       "      <td>Jongno-gu</td>\n",
       "      <td>NaN</td>\n",
       "      <td>contact with patient</td>\n",
       "      <td>2.0</td>\n",
       "      <td>2002000001</td>\n",
       "      <td>17</td>\n",
       "      <td>NaN</td>\n",
       "      <td>2020-01-30</td>\n",
       "      <td>2020-02-19</td>\n",
       "      <td>NaN</td>\n",
       "      <td>released</td>\n",
       "    </tr>\n",
       "    <tr>\n",
       "      <th>3</th>\n",
       "      <td>1000000004</td>\n",
       "      <td>7.0</td>\n",
       "      <td>male</td>\n",
       "      <td>1991</td>\n",
       "      <td>20s</td>\n",
       "      <td>Korea</td>\n",
       "      <td>Seoul</td>\n",
       "      <td>Mapo-gu</td>\n",
       "      <td>NaN</td>\n",
       "      <td>overseas inflow</td>\n",
       "      <td>1.0</td>\n",
       "      <td>NaN</td>\n",
       "      <td>9</td>\n",
       "      <td>2020-01-26</td>\n",
       "      <td>2020-01-30</td>\n",
       "      <td>2020-02-15</td>\n",
       "      <td>NaN</td>\n",
       "      <td>released</td>\n",
       "    </tr>\n",
       "    <tr>\n",
       "      <th>4</th>\n",
       "      <td>1000000005</td>\n",
       "      <td>9.0</td>\n",
       "      <td>female</td>\n",
       "      <td>1992</td>\n",
       "      <td>20s</td>\n",
       "      <td>Korea</td>\n",
       "      <td>Seoul</td>\n",
       "      <td>Seongbuk-gu</td>\n",
       "      <td>NaN</td>\n",
       "      <td>contact with patient</td>\n",
       "      <td>2.0</td>\n",
       "      <td>1000000002</td>\n",
       "      <td>2</td>\n",
       "      <td>NaN</td>\n",
       "      <td>2020-01-31</td>\n",
       "      <td>2020-02-24</td>\n",
       "      <td>NaN</td>\n",
       "      <td>released</td>\n",
       "    </tr>\n",
       "  </tbody>\n",
       "</table>\n",
       "</div>"
      ],
      "text/plain": [
       "   patient_id  global_num     sex birth_year  age country province  \\\n",
       "0  1000000001         2.0    male       1964  50s   Korea    Seoul   \n",
       "1  1000000002         5.0    male       1987  30s   Korea    Seoul   \n",
       "2  1000000003         6.0    male       1964  50s   Korea    Seoul   \n",
       "3  1000000004         7.0    male       1991  20s   Korea    Seoul   \n",
       "4  1000000005         9.0  female       1992  20s   Korea    Seoul   \n",
       "\n",
       "          city disease        infection_case  infection_order infected_by  \\\n",
       "0   Gangseo-gu     NaN       overseas inflow              1.0         NaN   \n",
       "1  Jungnang-gu     NaN       overseas inflow              1.0         NaN   \n",
       "2    Jongno-gu     NaN  contact with patient              2.0  2002000001   \n",
       "3      Mapo-gu     NaN       overseas inflow              1.0         NaN   \n",
       "4  Seongbuk-gu     NaN  contact with patient              2.0  1000000002   \n",
       "\n",
       "  contact_number symptom_onset_date confirmed_date released_date  \\\n",
       "0             75         2020-01-22     2020-01-23    2020-02-05   \n",
       "1             31                NaN     2020-01-30    2020-03-02   \n",
       "2             17                NaN     2020-01-30    2020-02-19   \n",
       "3              9         2020-01-26     2020-01-30    2020-02-15   \n",
       "4              2                NaN     2020-01-31    2020-02-24   \n",
       "\n",
       "  deceased_date     state  \n",
       "0           NaN  released  \n",
       "1           NaN  released  \n",
       "2           NaN  released  \n",
       "3           NaN  released  \n",
       "4           NaN  released  "
      ]
     },
     "execution_count": 2,
     "metadata": {},
     "output_type": "execute_result"
    }
   ],
   "source": [
    "data.head()"
   ]
  },
  {
   "cell_type": "code",
   "execution_count": 3,
   "metadata": {},
   "outputs": [
    {
     "name": "stdout",
     "output_type": "stream",
     "text": [
      "<class 'pandas.core.frame.DataFrame'>\n",
      "RangeIndex: 4004 entries, 0 to 4003\n",
      "Data columns (total 18 columns):\n",
      " #   Column              Non-Null Count  Dtype  \n",
      "---  ------              --------------  -----  \n",
      " 0   patient_id          4004 non-null   int64  \n",
      " 1   global_num          2806 non-null   float64\n",
      " 2   sex                 3674 non-null   object \n",
      " 3   birth_year          3267 non-null   object \n",
      " 4   age                 3525 non-null   object \n",
      " 5   country             4004 non-null   object \n",
      " 6   province            4004 non-null   object \n",
      " 7   city                3926 non-null   object \n",
      " 8   disease             18 non-null     object \n",
      " 9   infection_case      3211 non-null   object \n",
      " 10  infection_order     31 non-null     float64\n",
      " 11  infected_by         899 non-null    object \n",
      " 12  contact_number      680 non-null    object \n",
      " 13  symptom_onset_date  535 non-null    object \n",
      " 14  confirmed_date      4001 non-null   object \n",
      " 15  released_date       1508 non-null   object \n",
      " 16  deceased_date       65 non-null     object \n",
      " 17  state               4004 non-null   object \n",
      "dtypes: float64(2), int64(1), object(15)\n",
      "memory usage: 563.2+ KB\n"
     ]
    }
   ],
   "source": [
    "data.info()"
   ]
  },
  {
   "cell_type": "code",
   "execution_count": 4,
   "metadata": {
    "scrolled": true
   },
   "outputs": [
    {
     "data": {
      "text/plain": [
       "{'Busan',\n",
       " 'Chungcheongbuk-do',\n",
       " 'Chungcheongnam-do',\n",
       " 'Daegu',\n",
       " 'Daejeon',\n",
       " 'Gangwon-do',\n",
       " 'Gwangju',\n",
       " 'Gyeonggi-do',\n",
       " 'Gyeongsangbuk-do',\n",
       " 'Gyeongsangnam-do',\n",
       " 'Incheon',\n",
       " 'Jeju-do',\n",
       " 'Jeollabuk-do',\n",
       " 'Jeollanam-do',\n",
       " 'Sejong',\n",
       " 'Seoul',\n",
       " 'Ulsan'}"
      ]
     },
     "execution_count": 4,
     "metadata": {},
     "output_type": "execute_result"
    }
   ],
   "source": [
    "set(data['province']) ## 확진자의 지역, 우리가 진행중인 데이터의 sido와 동일하다"
   ]
  },
  {
   "cell_type": "code",
   "execution_count": 5,
   "metadata": {
    "scrolled": false
   },
   "outputs": [
    {
     "data": {
      "text/plain": [
       "{'0s',\n",
       " '100s',\n",
       " '10s',\n",
       " '20s',\n",
       " '30',\n",
       " '30s',\n",
       " '40s',\n",
       " '50s',\n",
       " '60s',\n",
       " '70s',\n",
       " '80s',\n",
       " '90s',\n",
       " nan}"
      ]
     },
     "execution_count": 5,
     "metadata": {},
     "output_type": "execute_result"
    }
   ],
   "source": [
    "set(data['age']) ## 0~100, 10s~70s만 사용할 것"
   ]
  },
  {
   "cell_type": "code",
   "execution_count": 6,
   "metadata": {},
   "outputs": [
    {
     "data": {
      "text/plain": [
       "{'Bangladesh',\n",
       " 'Canada',\n",
       " 'China',\n",
       " 'Foreign',\n",
       " 'France',\n",
       " 'Germany',\n",
       " 'Indonesia',\n",
       " 'Korea',\n",
       " 'Mongolia',\n",
       " 'Spain',\n",
       " 'Switzerland',\n",
       " 'Thailand',\n",
       " 'United Kingdom',\n",
       " 'United States',\n",
       " 'Vietnam'}"
      ]
     },
     "execution_count": 6,
     "metadata": {},
     "output_type": "execute_result"
    }
   ],
   "source": [
    "set(data['country']) ## 국내외 포함하여 확진자 카운트할 것"
   ]
  },
  {
   "cell_type": "code",
   "execution_count": 7,
   "metadata": {},
   "outputs": [],
   "source": [
    "df= data[['sex', 'age', 'province', 'confirmed_date']] ## 성별, 나이, 지역, 확진 날짜"
   ]
  },
  {
   "cell_type": "code",
   "execution_count": 8,
   "metadata": {
    "scrolled": false
   },
   "outputs": [
    {
     "data": {
      "text/html": [
       "<div>\n",
       "<style scoped>\n",
       "    .dataframe tbody tr th:only-of-type {\n",
       "        vertical-align: middle;\n",
       "    }\n",
       "\n",
       "    .dataframe tbody tr th {\n",
       "        vertical-align: top;\n",
       "    }\n",
       "\n",
       "    .dataframe thead th {\n",
       "        text-align: right;\n",
       "    }\n",
       "</style>\n",
       "<table border=\"1\" class=\"dataframe\">\n",
       "  <thead>\n",
       "    <tr style=\"text-align: right;\">\n",
       "      <th></th>\n",
       "      <th>sex</th>\n",
       "      <th>age</th>\n",
       "      <th>province</th>\n",
       "      <th>confirmed_date</th>\n",
       "    </tr>\n",
       "  </thead>\n",
       "  <tbody>\n",
       "    <tr>\n",
       "      <th>0</th>\n",
       "      <td>male</td>\n",
       "      <td>50s</td>\n",
       "      <td>Seoul</td>\n",
       "      <td>2020-01-23</td>\n",
       "    </tr>\n",
       "    <tr>\n",
       "      <th>1</th>\n",
       "      <td>male</td>\n",
       "      <td>30s</td>\n",
       "      <td>Seoul</td>\n",
       "      <td>2020-01-30</td>\n",
       "    </tr>\n",
       "    <tr>\n",
       "      <th>2</th>\n",
       "      <td>male</td>\n",
       "      <td>50s</td>\n",
       "      <td>Seoul</td>\n",
       "      <td>2020-01-30</td>\n",
       "    </tr>\n",
       "    <tr>\n",
       "      <th>3</th>\n",
       "      <td>male</td>\n",
       "      <td>20s</td>\n",
       "      <td>Seoul</td>\n",
       "      <td>2020-01-30</td>\n",
       "    </tr>\n",
       "    <tr>\n",
       "      <th>4</th>\n",
       "      <td>female</td>\n",
       "      <td>20s</td>\n",
       "      <td>Seoul</td>\n",
       "      <td>2020-01-31</td>\n",
       "    </tr>\n",
       "  </tbody>\n",
       "</table>\n",
       "</div>"
      ],
      "text/plain": [
       "      sex  age province confirmed_date\n",
       "0    male  50s    Seoul     2020-01-23\n",
       "1    male  30s    Seoul     2020-01-30\n",
       "2    male  50s    Seoul     2020-01-30\n",
       "3    male  20s    Seoul     2020-01-30\n",
       "4  female  20s    Seoul     2020-01-31"
      ]
     },
     "execution_count": 8,
     "metadata": {},
     "output_type": "execute_result"
    }
   ],
   "source": [
    "df.head()"
   ]
  },
  {
   "cell_type": "code",
   "execution_count": 9,
   "metadata": {},
   "outputs": [
    {
     "name": "stdout",
     "output_type": "stream",
     "text": [
      "<class 'pandas.core.frame.DataFrame'>\n",
      "RangeIndex: 4004 entries, 0 to 4003\n",
      "Data columns (total 4 columns):\n",
      " #   Column          Non-Null Count  Dtype \n",
      "---  ------          --------------  ----- \n",
      " 0   sex             3674 non-null   object\n",
      " 1   age             3525 non-null   object\n",
      " 2   province        4004 non-null   object\n",
      " 3   confirmed_date  4001 non-null   object\n",
      "dtypes: object(4)\n",
      "memory usage: 125.2+ KB\n"
     ]
    }
   ],
   "source": [
    "df.info() ## 널값이 있다(아래에서 삭제할 것)"
   ]
  },
  {
   "cell_type": "code",
   "execution_count": 10,
   "metadata": {},
   "outputs": [],
   "source": [
    "import re ## 우리가 분석 중인 데이터와 날짜를 맞추기 위해 변경 \n",
    "\n",
    "def grap_year_month(data):\n",
    "    data = str(data)\n",
    "    data = re.sub('-', '', data)\n",
    "    return str(data[:6])"
   ]
  },
  {
   "cell_type": "code",
   "execution_count": 11,
   "metadata": {
    "scrolled": false
   },
   "outputs": [],
   "source": [
    "df['confirmed_date'] = df['confirmed_date'].apply(lambda x : grap_year_month(x)) "
   ]
  },
  {
   "cell_type": "code",
   "execution_count": 12,
   "metadata": {},
   "outputs": [],
   "source": [
    "def grap_sex(data):  ## male, female -> 1,2\n",
    "    data = str(data)\n",
    "    if data == 'female' :\n",
    "        return 2\n",
    "    else :\n",
    "        return 1"
   ]
  },
  {
   "cell_type": "code",
   "execution_count": 13,
   "metadata": {},
   "outputs": [],
   "source": [
    "df['sex'] = df['sex'].apply(lambda x : grap_sex(x)) "
   ]
  },
  {
   "cell_type": "code",
   "execution_count": 14,
   "metadata": {},
   "outputs": [],
   "source": [
    "def province_korean(data) : ## 지역명을 영문에서 한글로 변경\n",
    "    data = str(data)\n",
    "    if data =='Busan':\n",
    "        return \"부산\"\n",
    "    elif data =='Chungcheongbuk-do' :\n",
    "        return \"충북\"\n",
    "    elif data =='Chungcheongnam-do' :\n",
    "        return \"충남\"\n",
    "    elif data =='Daegu' :\n",
    "        return \"대구\"\n",
    "    elif data =='Daejeon' :\n",
    "        return \"대전\"\n",
    "    elif data =='Gangwon-do' :\n",
    "        return \"강원\"\n",
    "    elif data =='Gyeonggi-do' :\n",
    "        return \"경기\"\n",
    "    elif data =='Gwangju' :\n",
    "        return \"광주\"\n",
    "    elif data =='Gyeongsangbuk-do' :\n",
    "        return \"경북\"\n",
    "    elif data =='Gyeongsangnam-do' :\n",
    "        return \"경남\"\n",
    "    elif data =='Incheon' :\n",
    "        return \"인천\"\n",
    "    elif data =='Jeju-do' :\n",
    "        return \"제주\"\n",
    "    elif data =='Jeollabuk-do' :\n",
    "        return \"전북\"\n",
    "    elif data =='Jeollanam-do' :\n",
    "        return \"전남\"\n",
    "    elif data =='Sejong' :\n",
    "        return \"세종\"\n",
    "    elif data =='Seoul' :\n",
    "        return \"서울\"\n",
    "    elif data =='Ulsan' :\n",
    "        return \"울산\""
   ]
  },
  {
   "cell_type": "code",
   "execution_count": 15,
   "metadata": {},
   "outputs": [],
   "source": [
    "df['province'] = df['province'].apply(lambda x : province_korean(x)) "
   ]
  },
  {
   "cell_type": "code",
   "execution_count": 16,
   "metadata": {
    "scrolled": true
   },
   "outputs": [
    {
     "data": {
      "text/html": [
       "<div>\n",
       "<style scoped>\n",
       "    .dataframe tbody tr th:only-of-type {\n",
       "        vertical-align: middle;\n",
       "    }\n",
       "\n",
       "    .dataframe tbody tr th {\n",
       "        vertical-align: top;\n",
       "    }\n",
       "\n",
       "    .dataframe thead th {\n",
       "        text-align: right;\n",
       "    }\n",
       "</style>\n",
       "<table border=\"1\" class=\"dataframe\">\n",
       "  <thead>\n",
       "    <tr style=\"text-align: right;\">\n",
       "      <th></th>\n",
       "      <th>sex</th>\n",
       "      <th>age</th>\n",
       "      <th>province</th>\n",
       "      <th>confirmed_date</th>\n",
       "    </tr>\n",
       "  </thead>\n",
       "  <tbody>\n",
       "    <tr>\n",
       "      <th>0</th>\n",
       "      <td>1</td>\n",
       "      <td>50s</td>\n",
       "      <td>서울</td>\n",
       "      <td>202001</td>\n",
       "    </tr>\n",
       "    <tr>\n",
       "      <th>1</th>\n",
       "      <td>1</td>\n",
       "      <td>30s</td>\n",
       "      <td>서울</td>\n",
       "      <td>202001</td>\n",
       "    </tr>\n",
       "    <tr>\n",
       "      <th>2</th>\n",
       "      <td>1</td>\n",
       "      <td>50s</td>\n",
       "      <td>서울</td>\n",
       "      <td>202001</td>\n",
       "    </tr>\n",
       "    <tr>\n",
       "      <th>3</th>\n",
       "      <td>1</td>\n",
       "      <td>20s</td>\n",
       "      <td>서울</td>\n",
       "      <td>202001</td>\n",
       "    </tr>\n",
       "    <tr>\n",
       "      <th>4</th>\n",
       "      <td>2</td>\n",
       "      <td>20s</td>\n",
       "      <td>서울</td>\n",
       "      <td>202001</td>\n",
       "    </tr>\n",
       "  </tbody>\n",
       "</table>\n",
       "</div>"
      ],
      "text/plain": [
       "   sex  age province confirmed_date\n",
       "0    1  50s       서울         202001\n",
       "1    1  30s       서울         202001\n",
       "2    1  50s       서울         202001\n",
       "3    1  20s       서울         202001\n",
       "4    2  20s       서울         202001"
      ]
     },
     "execution_count": 16,
     "metadata": {},
     "output_type": "execute_result"
    }
   ],
   "source": [
    "df.head()"
   ]
  },
  {
   "cell_type": "code",
   "execution_count": 17,
   "metadata": {
    "scrolled": true
   },
   "outputs": [],
   "source": [
    "df['count'] = 1 ## 개인 확진자의 정보이기때문에 count피처에 1대입"
   ]
  },
  {
   "cell_type": "code",
   "execution_count": 18,
   "metadata": {
    "scrolled": true
   },
   "outputs": [],
   "source": [
    "df = df.dropna(axis = 0, how = 'any') ## 널값 포함하는 행 삭제"
   ]
  },
  {
   "cell_type": "code",
   "execution_count": 19,
   "metadata": {
    "scrolled": true
   },
   "outputs": [
    {
     "data": {
      "text/html": [
       "<div>\n",
       "<style scoped>\n",
       "    .dataframe tbody tr th:only-of-type {\n",
       "        vertical-align: middle;\n",
       "    }\n",
       "\n",
       "    .dataframe tbody tr th {\n",
       "        vertical-align: top;\n",
       "    }\n",
       "\n",
       "    .dataframe thead th {\n",
       "        text-align: right;\n",
       "    }\n",
       "</style>\n",
       "<table border=\"1\" class=\"dataframe\">\n",
       "  <thead>\n",
       "    <tr style=\"text-align: right;\">\n",
       "      <th></th>\n",
       "      <th>sex</th>\n",
       "      <th>age</th>\n",
       "      <th>province</th>\n",
       "      <th>confirmed_date</th>\n",
       "      <th>count</th>\n",
       "    </tr>\n",
       "  </thead>\n",
       "  <tbody>\n",
       "    <tr>\n",
       "      <th>0</th>\n",
       "      <td>1</td>\n",
       "      <td>50s</td>\n",
       "      <td>서울</td>\n",
       "      <td>202001</td>\n",
       "      <td>1</td>\n",
       "    </tr>\n",
       "    <tr>\n",
       "      <th>1</th>\n",
       "      <td>1</td>\n",
       "      <td>30s</td>\n",
       "      <td>서울</td>\n",
       "      <td>202001</td>\n",
       "      <td>1</td>\n",
       "    </tr>\n",
       "    <tr>\n",
       "      <th>2</th>\n",
       "      <td>1</td>\n",
       "      <td>50s</td>\n",
       "      <td>서울</td>\n",
       "      <td>202001</td>\n",
       "      <td>1</td>\n",
       "    </tr>\n",
       "    <tr>\n",
       "      <th>3</th>\n",
       "      <td>1</td>\n",
       "      <td>20s</td>\n",
       "      <td>서울</td>\n",
       "      <td>202001</td>\n",
       "      <td>1</td>\n",
       "    </tr>\n",
       "    <tr>\n",
       "      <th>4</th>\n",
       "      <td>2</td>\n",
       "      <td>20s</td>\n",
       "      <td>서울</td>\n",
       "      <td>202001</td>\n",
       "      <td>1</td>\n",
       "    </tr>\n",
       "  </tbody>\n",
       "</table>\n",
       "</div>"
      ],
      "text/plain": [
       "   sex  age province confirmed_date  count\n",
       "0    1  50s       서울         202001      1\n",
       "1    1  30s       서울         202001      1\n",
       "2    1  50s       서울         202001      1\n",
       "3    1  20s       서울         202001      1\n",
       "4    2  20s       서울         202001      1"
      ]
     },
     "execution_count": 19,
     "metadata": {},
     "output_type": "execute_result"
    }
   ],
   "source": [
    "df.head()"
   ]
  },
  {
   "cell_type": "code",
   "execution_count": 20,
   "metadata": {},
   "outputs": [],
   "source": [
    "df.columns = ['SEX_CTGO_CD', 'AGE', 'CARD_SIDO_NM', 'REG_YYMM', 'confirmed case'] ## 분석중인 데이터와 컬럼명 동일하게"
   ]
  },
  {
   "cell_type": "code",
   "execution_count": 21,
   "metadata": {
    "scrolled": true
   },
   "outputs": [
    {
     "name": "stdout",
     "output_type": "stream",
     "text": [
      "<class 'pandas.core.frame.DataFrame'>\n",
      "Int64Index: 3525 entries, 0 to 4003\n",
      "Data columns (total 5 columns):\n",
      " #   Column          Non-Null Count  Dtype \n",
      "---  ------          --------------  ----- \n",
      " 0   SEX_CTGO_CD     3525 non-null   int64 \n",
      " 1   AGE             3525 non-null   object\n",
      " 2   CARD_SIDO_NM    3525 non-null   object\n",
      " 3   REG_YYMM        3525 non-null   object\n",
      " 4   confirmed case  3525 non-null   int64 \n",
      "dtypes: int64(2), object(3)\n",
      "memory usage: 165.2+ KB\n"
     ]
    }
   ],
   "source": [
    "df.info()"
   ]
  },
  {
   "cell_type": "code",
   "execution_count": 22,
   "metadata": {},
   "outputs": [
    {
     "data": {
      "text/plain": [
       "{1, 2}"
      ]
     },
     "execution_count": 22,
     "metadata": {},
     "output_type": "execute_result"
    }
   ],
   "source": [
    "set(df['SEX_CTGO_CD'])"
   ]
  },
  {
   "cell_type": "code",
   "execution_count": 23,
   "metadata": {},
   "outputs": [
    {
     "data": {
      "text/plain": [
       "{'0s',\n",
       " '100s',\n",
       " '10s',\n",
       " '20s',\n",
       " '30',\n",
       " '30s',\n",
       " '40s',\n",
       " '50s',\n",
       " '60s',\n",
       " '70s',\n",
       " '80s',\n",
       " '90s'}"
      ]
     },
     "execution_count": 23,
     "metadata": {},
     "output_type": "execute_result"
    }
   ],
   "source": [
    "set(df['AGE'])"
   ]
  },
  {
   "cell_type": "code",
   "execution_count": 24,
   "metadata": {
    "scrolled": false
   },
   "outputs": [
    {
     "data": {
      "text/plain": [
       "{'강원',\n",
       " '경기',\n",
       " '경남',\n",
       " '경북',\n",
       " '광주',\n",
       " '대구',\n",
       " '대전',\n",
       " '부산',\n",
       " '서울',\n",
       " '세종',\n",
       " '울산',\n",
       " '인천',\n",
       " '전남',\n",
       " '전북',\n",
       " '제주',\n",
       " '충남',\n",
       " '충북'}"
      ]
     },
     "execution_count": 24,
     "metadata": {},
     "output_type": "execute_result"
    }
   ],
   "source": [
    "set(df['CARD_SIDO_NM'])"
   ]
  },
  {
   "cell_type": "code",
   "execution_count": 25,
   "metadata": {
    "scrolled": true
   },
   "outputs": [
    {
     "data": {
      "text/plain": [
       "{'202001', '202002', '202003', '202004', '202005', 'nan'}"
      ]
     },
     "execution_count": 25,
     "metadata": {},
     "output_type": "execute_result"
    }
   ],
   "source": [
    "set(df['REG_YYMM']) ## 4월 5월 nan 삭제"
   ]
  },
  {
   "cell_type": "code",
   "execution_count": 26,
   "metadata": {},
   "outputs": [],
   "source": [
    "df_drop = df[df['REG_YYMM']=='nan'].index\n",
    "df_drop1 = df[df['REG_YYMM']=='202004'].index\n",
    "df_drop2 = df[df['REG_YYMM']=='202005'].index\n",
    "df = df.drop(df_drop)\n",
    "df = df.drop(df_drop1)\n",
    "df = df.drop(df_drop2)"
   ]
  },
  {
   "cell_type": "code",
   "execution_count": 27,
   "metadata": {},
   "outputs": [
    {
     "data": {
      "text/plain": [
       "{'202001', '202002', '202003'}"
      ]
     },
     "execution_count": 27,
     "metadata": {},
     "output_type": "execute_result"
    }
   ],
   "source": [
    "set(df['REG_YYMM'])"
   ]
  },
  {
   "cell_type": "code",
   "execution_count": 28,
   "metadata": {},
   "outputs": [],
   "source": [
    "df_drop = df[df['AGE']=='0s'].index ## 10s~70s 제외 삭제\n",
    "df_drop1 = df[df['AGE']=='100s'].index\n",
    "df_drop2 = df[df['AGE']=='90s'].index\n",
    "df_drop3 = df[df['AGE']=='80s'].index\n",
    "df = df.drop(df_drop)\n",
    "df = df.drop(df_drop1)\n",
    "df = df.drop(df_drop2)\n",
    "df = df.drop(df_drop3)"
   ]
  },
  {
   "cell_type": "code",
   "execution_count": 29,
   "metadata": {},
   "outputs": [
    {
     "data": {
      "text/plain": [
       "{'10s', '20s', '30s', '40s', '50s', '60s', '70s'}"
      ]
     },
     "execution_count": 29,
     "metadata": {},
     "output_type": "execute_result"
    }
   ],
   "source": [
    "set(df['AGE'])"
   ]
  },
  {
   "cell_type": "code",
   "execution_count": 30,
   "metadata": {},
   "outputs": [],
   "source": [
    "df_group = df.groupby(['SEX_CTGO_CD', 'AGE', 'CARD_SIDO_NM', 'REG_YYMM']).sum() ## 성별, 나이, 지역, 확진 달로 그룹화하여 sum"
   ]
  },
  {
   "cell_type": "code",
   "execution_count": 31,
   "metadata": {
    "scrolled": true
   },
   "outputs": [
    {
     "data": {
      "text/html": [
       "<div>\n",
       "<style scoped>\n",
       "    .dataframe tbody tr th:only-of-type {\n",
       "        vertical-align: middle;\n",
       "    }\n",
       "\n",
       "    .dataframe tbody tr th {\n",
       "        vertical-align: top;\n",
       "    }\n",
       "\n",
       "    .dataframe thead th {\n",
       "        text-align: right;\n",
       "    }\n",
       "</style>\n",
       "<table border=\"1\" class=\"dataframe\">\n",
       "  <thead>\n",
       "    <tr style=\"text-align: right;\">\n",
       "      <th></th>\n",
       "      <th></th>\n",
       "      <th></th>\n",
       "      <th></th>\n",
       "      <th>confirmed case</th>\n",
       "    </tr>\n",
       "    <tr>\n",
       "      <th>SEX_CTGO_CD</th>\n",
       "      <th>AGE</th>\n",
       "      <th>CARD_SIDO_NM</th>\n",
       "      <th>REG_YYMM</th>\n",
       "      <th></th>\n",
       "    </tr>\n",
       "  </thead>\n",
       "  <tbody>\n",
       "    <tr>\n",
       "      <th rowspan=\"10\" valign=\"top\">1</th>\n",
       "      <th rowspan=\"10\" valign=\"top\">10s</th>\n",
       "      <th>경기</th>\n",
       "      <th>202003</th>\n",
       "      <td>12</td>\n",
       "    </tr>\n",
       "    <tr>\n",
       "      <th>경남</th>\n",
       "      <th>202002</th>\n",
       "      <td>2</td>\n",
       "    </tr>\n",
       "    <tr>\n",
       "      <th rowspan=\"2\" valign=\"top\">경북</th>\n",
       "      <th>202002</th>\n",
       "      <td>5</td>\n",
       "    </tr>\n",
       "    <tr>\n",
       "      <th>202003</th>\n",
       "      <td>17</td>\n",
       "    </tr>\n",
       "    <tr>\n",
       "      <th>대전</th>\n",
       "      <th>202003</th>\n",
       "      <td>1</td>\n",
       "    </tr>\n",
       "    <tr>\n",
       "      <th rowspan=\"2\" valign=\"top\">부산</th>\n",
       "      <th>202002</th>\n",
       "      <td>4</td>\n",
       "    </tr>\n",
       "    <tr>\n",
       "      <th>202003</th>\n",
       "      <td>4</td>\n",
       "    </tr>\n",
       "    <tr>\n",
       "      <th rowspan=\"2\" valign=\"top\">서울</th>\n",
       "      <th>202002</th>\n",
       "      <td>1</td>\n",
       "    </tr>\n",
       "    <tr>\n",
       "      <th>202003</th>\n",
       "      <td>9</td>\n",
       "    </tr>\n",
       "    <tr>\n",
       "      <th>세종</th>\n",
       "      <th>202003</th>\n",
       "      <td>1</td>\n",
       "    </tr>\n",
       "  </tbody>\n",
       "</table>\n",
       "</div>"
      ],
      "text/plain": [
       "                                       confirmed case\n",
       "SEX_CTGO_CD AGE CARD_SIDO_NM REG_YYMM                \n",
       "1           10s 경기           202003                12\n",
       "                경남           202002                 2\n",
       "                경북           202002                 5\n",
       "                             202003                17\n",
       "                대전           202003                 1\n",
       "                부산           202002                 4\n",
       "                             202003                 4\n",
       "                서울           202002                 1\n",
       "                             202003                 9\n",
       "                세종           202003                 1"
      ]
     },
     "execution_count": 31,
     "metadata": {},
     "output_type": "execute_result"
    }
   ],
   "source": [
    "df_group.head(10)"
   ]
  },
  {
   "cell_type": "code",
   "execution_count": 32,
   "metadata": {
    "scrolled": true
   },
   "outputs": [
    {
     "data": {
      "text/plain": [
       "314"
      ]
     },
     "execution_count": 32,
     "metadata": {},
     "output_type": "execute_result"
    }
   ],
   "source": [
    "len(df_group) ## 경우의 수를 따지면 714행이여야하는데 정보가 모든 경우의 수를 만족하지 않는다"
   ]
  },
  {
   "cell_type": "code",
   "execution_count": 33,
   "metadata": {},
   "outputs": [],
   "source": [
    "df_group.to_csv('df_group.csv', encoding='utf-8-sig') ## 위의 그룹데이터를 우선 저장"
   ]
  },
  {
   "cell_type": "code",
   "execution_count": 34,
   "metadata": {},
   "outputs": [],
   "source": [
    "df = pd.read_csv('./df_group.csv') ## 다시 불러온다"
   ]
  },
  {
   "cell_type": "code",
   "execution_count": 35,
   "metadata": {
    "scrolled": true
   },
   "outputs": [
    {
     "data": {
      "text/html": [
       "<div>\n",
       "<style scoped>\n",
       "    .dataframe tbody tr th:only-of-type {\n",
       "        vertical-align: middle;\n",
       "    }\n",
       "\n",
       "    .dataframe tbody tr th {\n",
       "        vertical-align: top;\n",
       "    }\n",
       "\n",
       "    .dataframe thead th {\n",
       "        text-align: right;\n",
       "    }\n",
       "</style>\n",
       "<table border=\"1\" class=\"dataframe\">\n",
       "  <thead>\n",
       "    <tr style=\"text-align: right;\">\n",
       "      <th></th>\n",
       "      <th>SEX_CTGO_CD</th>\n",
       "      <th>AGE</th>\n",
       "      <th>CARD_SIDO_NM</th>\n",
       "      <th>REG_YYMM</th>\n",
       "      <th>confirmed case</th>\n",
       "    </tr>\n",
       "  </thead>\n",
       "  <tbody>\n",
       "    <tr>\n",
       "      <th>0</th>\n",
       "      <td>1</td>\n",
       "      <td>10s</td>\n",
       "      <td>경기</td>\n",
       "      <td>202003</td>\n",
       "      <td>12</td>\n",
       "    </tr>\n",
       "    <tr>\n",
       "      <th>1</th>\n",
       "      <td>1</td>\n",
       "      <td>10s</td>\n",
       "      <td>경남</td>\n",
       "      <td>202002</td>\n",
       "      <td>2</td>\n",
       "    </tr>\n",
       "    <tr>\n",
       "      <th>2</th>\n",
       "      <td>1</td>\n",
       "      <td>10s</td>\n",
       "      <td>경북</td>\n",
       "      <td>202002</td>\n",
       "      <td>5</td>\n",
       "    </tr>\n",
       "    <tr>\n",
       "      <th>3</th>\n",
       "      <td>1</td>\n",
       "      <td>10s</td>\n",
       "      <td>경북</td>\n",
       "      <td>202003</td>\n",
       "      <td>17</td>\n",
       "    </tr>\n",
       "    <tr>\n",
       "      <th>4</th>\n",
       "      <td>1</td>\n",
       "      <td>10s</td>\n",
       "      <td>대전</td>\n",
       "      <td>202003</td>\n",
       "      <td>1</td>\n",
       "    </tr>\n",
       "  </tbody>\n",
       "</table>\n",
       "</div>"
      ],
      "text/plain": [
       "   SEX_CTGO_CD  AGE CARD_SIDO_NM  REG_YYMM  confirmed case\n",
       "0            1  10s           경기    202003              12\n",
       "1            1  10s           경남    202002               2\n",
       "2            1  10s           경북    202002               5\n",
       "3            1  10s           경북    202003              17\n",
       "4            1  10s           대전    202003               1"
      ]
     },
     "execution_count": 35,
     "metadata": {},
     "output_type": "execute_result"
    }
   ],
   "source": [
    "df.head() ## 아래처럼 보기위해 다시 불러온 것"
   ]
  },
  {
   "cell_type": "code",
   "execution_count": 36,
   "metadata": {
    "scrolled": true
   },
   "outputs": [
    {
     "data": {
      "text/plain": [
       "count    314.000000\n",
       "mean       8.401274\n",
       "std       14.379769\n",
       "min        1.000000\n",
       "25%        1.000000\n",
       "50%        3.000000\n",
       "75%        7.000000\n",
       "max       96.000000\n",
       "Name: confirmed case, dtype: float64"
      ]
     },
     "execution_count": 36,
     "metadata": {},
     "output_type": "execute_result"
    }
   ],
   "source": [
    "df['confirmed case'].describe()"
   ]
  },
  {
   "cell_type": "code",
   "execution_count": 37,
   "metadata": {},
   "outputs": [],
   "source": [
    "df = df.rename({'confirmed case': 'confirmed_case'}, axis = 'columns')"
   ]
  },
  {
   "cell_type": "code",
   "execution_count": 38,
   "metadata": {
    "scrolled": true
   },
   "outputs": [
    {
     "name": "stdout",
     "output_type": "stream",
     "text": [
      "<class 'pandas.core.frame.DataFrame'>\n",
      "RangeIndex: 314 entries, 0 to 313\n",
      "Data columns (total 5 columns):\n",
      " #   Column          Non-Null Count  Dtype \n",
      "---  ------          --------------  ----- \n",
      " 0   SEX_CTGO_CD     314 non-null    int64 \n",
      " 1   AGE             314 non-null    object\n",
      " 2   CARD_SIDO_NM    314 non-null    object\n",
      " 3   REG_YYMM        314 non-null    int64 \n",
      " 4   confirmed_case  314 non-null    int64 \n",
      "dtypes: int64(3), object(2)\n",
      "memory usage: 12.4+ KB\n"
     ]
    }
   ],
   "source": [
    "df.info()"
   ]
  },
  {
   "cell_type": "code",
   "execution_count": 39,
   "metadata": {},
   "outputs": [],
   "source": [
    "int_features = ['confirmed_case']\n",
    "\n",
    "for i in enumerate(int_features) :\n",
    "    ca = i[1]\n",
    "    df[ca] = df[ca].astype('int')"
   ]
  },
  {
   "cell_type": "code",
   "execution_count": 40,
   "metadata": {
    "scrolled": true
   },
   "outputs": [
    {
     "name": "stdout",
     "output_type": "stream",
     "text": [
      "<class 'pandas.core.frame.DataFrame'>\n",
      "RangeIndex: 314 entries, 0 to 313\n",
      "Data columns (total 5 columns):\n",
      " #   Column          Non-Null Count  Dtype \n",
      "---  ------          --------------  ----- \n",
      " 0   SEX_CTGO_CD     314 non-null    int64 \n",
      " 1   AGE             314 non-null    object\n",
      " 2   CARD_SIDO_NM    314 non-null    object\n",
      " 3   REG_YYMM        314 non-null    int64 \n",
      " 4   confirmed_case  314 non-null    int32 \n",
      "dtypes: int32(1), int64(2), object(2)\n",
      "memory usage: 11.2+ KB\n"
     ]
    }
   ],
   "source": [
    "df.info()"
   ]
  },
  {
   "cell_type": "code",
   "execution_count": 41,
   "metadata": {},
   "outputs": [
    {
     "data": {
      "text/plain": [
       "array([1, 2], dtype=int64)"
      ]
     },
     "execution_count": 41,
     "metadata": {},
     "output_type": "execute_result"
    }
   ],
   "source": [
    "df['SEX_CTGO_CD'].unique()"
   ]
  },
  {
   "cell_type": "code",
   "execution_count": 42,
   "metadata": {},
   "outputs": [
    {
     "data": {
      "text/plain": [
       "array(['10s', '20s', '30s', '40s', '50s', '60s', '70s'], dtype=object)"
      ]
     },
     "execution_count": 42,
     "metadata": {},
     "output_type": "execute_result"
    }
   ],
   "source": [
    "df['AGE'].unique()"
   ]
  },
  {
   "cell_type": "code",
   "execution_count": 43,
   "metadata": {
    "scrolled": true
   },
   "outputs": [
    {
     "data": {
      "text/plain": [
       "array(['경기', '경남', '경북', '대전', '부산', '서울', '세종', '울산', '충남', '충북', '강원',\n",
       "       '광주', '대구', '인천', '전남', '전북', '제주'], dtype=object)"
      ]
     },
     "execution_count": 43,
     "metadata": {},
     "output_type": "execute_result"
    }
   ],
   "source": [
    "df['CARD_SIDO_NM'].unique()"
   ]
  },
  {
   "cell_type": "code",
   "execution_count": 44,
   "metadata": {},
   "outputs": [
    {
     "data": {
      "text/plain": [
       "array([202003, 202002, 202001], dtype=int64)"
      ]
     },
     "execution_count": 44,
     "metadata": {},
     "output_type": "execute_result"
    }
   ],
   "source": [
    "df['REG_YYMM'].unique()"
   ]
  },
  {
   "cell_type": "code",
   "execution_count": 45,
   "metadata": {},
   "outputs": [],
   "source": [
    "import numpy as np \n",
    "\n",
    "## 모든 경우의 수로 714행의 가상 table 생성(count는 없다)\n",
    "\n",
    "sexs = df['SEX_CTGO_CD'].unique()\n",
    "ages  = df['AGE'].unique()\n",
    "sidos  = df['CARD_SIDO_NM'].unique()\n",
    "dates  = df['REG_YYMM'].unique()\n",
    "\n",
    "table = []\n",
    "for sex in sexs:\n",
    "    for age in ages:\n",
    "        for sido in sidos:\n",
    "            for date in dates:\n",
    "                table.append([sex, age, sido, date])\n",
    "                \n",
    "table = np.array(table)\n",
    "table = pd.DataFrame(data=table, columns=['SEX_CTGO_CD', 'AGE', 'CARD_SIDO_NM', 'REG_YYMM'])"
   ]
  },
  {
   "cell_type": "code",
   "execution_count": 46,
   "metadata": {
    "scrolled": true
   },
   "outputs": [
    {
     "data": {
      "text/html": [
       "<div>\n",
       "<style scoped>\n",
       "    .dataframe tbody tr th:only-of-type {\n",
       "        vertical-align: middle;\n",
       "    }\n",
       "\n",
       "    .dataframe tbody tr th {\n",
       "        vertical-align: top;\n",
       "    }\n",
       "\n",
       "    .dataframe thead th {\n",
       "        text-align: right;\n",
       "    }\n",
       "</style>\n",
       "<table border=\"1\" class=\"dataframe\">\n",
       "  <thead>\n",
       "    <tr style=\"text-align: right;\">\n",
       "      <th></th>\n",
       "      <th>SEX_CTGO_CD</th>\n",
       "      <th>AGE</th>\n",
       "      <th>CARD_SIDO_NM</th>\n",
       "      <th>REG_YYMM</th>\n",
       "    </tr>\n",
       "  </thead>\n",
       "  <tbody>\n",
       "    <tr>\n",
       "      <th>0</th>\n",
       "      <td>1</td>\n",
       "      <td>10s</td>\n",
       "      <td>경기</td>\n",
       "      <td>202003</td>\n",
       "    </tr>\n",
       "    <tr>\n",
       "      <th>1</th>\n",
       "      <td>1</td>\n",
       "      <td>10s</td>\n",
       "      <td>경기</td>\n",
       "      <td>202002</td>\n",
       "    </tr>\n",
       "    <tr>\n",
       "      <th>2</th>\n",
       "      <td>1</td>\n",
       "      <td>10s</td>\n",
       "      <td>경기</td>\n",
       "      <td>202001</td>\n",
       "    </tr>\n",
       "    <tr>\n",
       "      <th>3</th>\n",
       "      <td>1</td>\n",
       "      <td>10s</td>\n",
       "      <td>경남</td>\n",
       "      <td>202003</td>\n",
       "    </tr>\n",
       "    <tr>\n",
       "      <th>4</th>\n",
       "      <td>1</td>\n",
       "      <td>10s</td>\n",
       "      <td>경남</td>\n",
       "      <td>202002</td>\n",
       "    </tr>\n",
       "  </tbody>\n",
       "</table>\n",
       "</div>"
      ],
      "text/plain": [
       "  SEX_CTGO_CD  AGE CARD_SIDO_NM REG_YYMM\n",
       "0           1  10s           경기   202003\n",
       "1           1  10s           경기   202002\n",
       "2           1  10s           경기   202001\n",
       "3           1  10s           경남   202003\n",
       "4           1  10s           경남   202002"
      ]
     },
     "execution_count": 46,
     "metadata": {},
     "output_type": "execute_result"
    }
   ],
   "source": [
    "table.head()"
   ]
  },
  {
   "cell_type": "code",
   "execution_count": 47,
   "metadata": {},
   "outputs": [
    {
     "data": {
      "text/plain": [
       "714"
      ]
     },
     "execution_count": 47,
     "metadata": {},
     "output_type": "execute_result"
    }
   ],
   "source": [
    "len(table) ## 714개 만족"
   ]
  },
  {
   "cell_type": "code",
   "execution_count": 48,
   "metadata": {
    "scrolled": false
   },
   "outputs": [
    {
     "name": "stdout",
     "output_type": "stream",
     "text": [
      "<class 'pandas.core.frame.DataFrame'>\n",
      "RangeIndex: 714 entries, 0 to 713\n",
      "Data columns (total 4 columns):\n",
      " #   Column        Non-Null Count  Dtype \n",
      "---  ------        --------------  ----- \n",
      " 0   SEX_CTGO_CD   714 non-null    object\n",
      " 1   AGE           714 non-null    object\n",
      " 2   CARD_SIDO_NM  714 non-null    object\n",
      " 3   REG_YYMM      714 non-null    object\n",
      "dtypes: object(4)\n",
      "memory usage: 22.4+ KB\n"
     ]
    }
   ],
   "source": [
    "table.info()"
   ]
  },
  {
   "cell_type": "code",
   "execution_count": 49,
   "metadata": {},
   "outputs": [],
   "source": [
    "int_features = ['SEX_CTGO_CD', 'REG_YYMM'] ## 병합하기 위해 두 데이터프레임의 타입을 맞춤\n",
    "\n",
    "for i in enumerate(int_features) :\n",
    "    ca = i[1]\n",
    "    table[ca] = table[ca].astype('int')"
   ]
  },
  {
   "cell_type": "code",
   "execution_count": 50,
   "metadata": {},
   "outputs": [
    {
     "name": "stdout",
     "output_type": "stream",
     "text": [
      "<class 'pandas.core.frame.DataFrame'>\n",
      "RangeIndex: 714 entries, 0 to 713\n",
      "Data columns (total 4 columns):\n",
      " #   Column        Non-Null Count  Dtype \n",
      "---  ------        --------------  ----- \n",
      " 0   SEX_CTGO_CD   714 non-null    int32 \n",
      " 1   AGE           714 non-null    object\n",
      " 2   CARD_SIDO_NM  714 non-null    object\n",
      " 3   REG_YYMM      714 non-null    int32 \n",
      "dtypes: int32(2), object(2)\n",
      "memory usage: 16.9+ KB\n"
     ]
    }
   ],
   "source": [
    "table.info()"
   ]
  },
  {
   "cell_type": "code",
   "execution_count": 51,
   "metadata": {},
   "outputs": [],
   "source": [
    "data = pd.merge(df, table, on = ['SEX_CTGO_CD', 'AGE', 'CARD_SIDO_NM', 'REG_YYMM'], how = 'outer') ## 병합"
   ]
  },
  {
   "cell_type": "code",
   "execution_count": 52,
   "metadata": {
    "scrolled": true
   },
   "outputs": [
    {
     "data": {
      "text/html": [
       "<div>\n",
       "<style scoped>\n",
       "    .dataframe tbody tr th:only-of-type {\n",
       "        vertical-align: middle;\n",
       "    }\n",
       "\n",
       "    .dataframe tbody tr th {\n",
       "        vertical-align: top;\n",
       "    }\n",
       "\n",
       "    .dataframe thead th {\n",
       "        text-align: right;\n",
       "    }\n",
       "</style>\n",
       "<table border=\"1\" class=\"dataframe\">\n",
       "  <thead>\n",
       "    <tr style=\"text-align: right;\">\n",
       "      <th></th>\n",
       "      <th>SEX_CTGO_CD</th>\n",
       "      <th>AGE</th>\n",
       "      <th>CARD_SIDO_NM</th>\n",
       "      <th>REG_YYMM</th>\n",
       "      <th>confirmed_case</th>\n",
       "    </tr>\n",
       "  </thead>\n",
       "  <tbody>\n",
       "    <tr>\n",
       "      <th>0</th>\n",
       "      <td>1</td>\n",
       "      <td>10s</td>\n",
       "      <td>경기</td>\n",
       "      <td>202003</td>\n",
       "      <td>12.0</td>\n",
       "    </tr>\n",
       "    <tr>\n",
       "      <th>1</th>\n",
       "      <td>1</td>\n",
       "      <td>10s</td>\n",
       "      <td>경남</td>\n",
       "      <td>202002</td>\n",
       "      <td>2.0</td>\n",
       "    </tr>\n",
       "    <tr>\n",
       "      <th>2</th>\n",
       "      <td>1</td>\n",
       "      <td>10s</td>\n",
       "      <td>경북</td>\n",
       "      <td>202002</td>\n",
       "      <td>5.0</td>\n",
       "    </tr>\n",
       "    <tr>\n",
       "      <th>3</th>\n",
       "      <td>1</td>\n",
       "      <td>10s</td>\n",
       "      <td>경북</td>\n",
       "      <td>202003</td>\n",
       "      <td>17.0</td>\n",
       "    </tr>\n",
       "    <tr>\n",
       "      <th>4</th>\n",
       "      <td>1</td>\n",
       "      <td>10s</td>\n",
       "      <td>대전</td>\n",
       "      <td>202003</td>\n",
       "      <td>1.0</td>\n",
       "    </tr>\n",
       "  </tbody>\n",
       "</table>\n",
       "</div>"
      ],
      "text/plain": [
       "   SEX_CTGO_CD  AGE CARD_SIDO_NM  REG_YYMM  confirmed_case\n",
       "0            1  10s           경기    202003            12.0\n",
       "1            1  10s           경남    202002             2.0\n",
       "2            1  10s           경북    202002             5.0\n",
       "3            1  10s           경북    202003            17.0\n",
       "4            1  10s           대전    202003             1.0"
      ]
     },
     "execution_count": 52,
     "metadata": {},
     "output_type": "execute_result"
    }
   ],
   "source": [
    "data.head()"
   ]
  },
  {
   "cell_type": "code",
   "execution_count": 53,
   "metadata": {},
   "outputs": [
    {
     "data": {
      "text/plain": [
       "array([1, 2], dtype=int64)"
      ]
     },
     "execution_count": 53,
     "metadata": {},
     "output_type": "execute_result"
    }
   ],
   "source": [
    "data['SEX_CTGO_CD'].unique()"
   ]
  },
  {
   "cell_type": "code",
   "execution_count": 54,
   "metadata": {},
   "outputs": [
    {
     "data": {
      "text/plain": [
       "{'10s', '20s', '30s', '40s', '50s', '60s', '70s'}"
      ]
     },
     "execution_count": 54,
     "metadata": {},
     "output_type": "execute_result"
    }
   ],
   "source": [
    "set(data['AGE'])"
   ]
  },
  {
   "cell_type": "code",
   "execution_count": 55,
   "metadata": {},
   "outputs": [
    {
     "data": {
      "text/plain": [
       "array(['경기', '경남', '경북', '대전', '부산', '서울', '세종', '울산', '충남', '충북', '강원',\n",
       "       '광주', '대구', '인천', '전남', '전북', '제주'], dtype=object)"
      ]
     },
     "execution_count": 55,
     "metadata": {},
     "output_type": "execute_result"
    }
   ],
   "source": [
    "data['CARD_SIDO_NM'].unique()"
   ]
  },
  {
   "cell_type": "code",
   "execution_count": 56,
   "metadata": {
    "scrolled": true
   },
   "outputs": [
    {
     "data": {
      "text/plain": [
       "array([202003, 202002, 202001], dtype=int64)"
      ]
     },
     "execution_count": 56,
     "metadata": {},
     "output_type": "execute_result"
    }
   ],
   "source": [
    "data['REG_YYMM'].unique()"
   ]
  },
  {
   "cell_type": "code",
   "execution_count": 57,
   "metadata": {
    "scrolled": true
   },
   "outputs": [
    {
     "name": "stdout",
     "output_type": "stream",
     "text": [
      "<class 'pandas.core.frame.DataFrame'>\n",
      "Int64Index: 714 entries, 0 to 713\n",
      "Data columns (total 5 columns):\n",
      " #   Column          Non-Null Count  Dtype  \n",
      "---  ------          --------------  -----  \n",
      " 0   SEX_CTGO_CD     714 non-null    int64  \n",
      " 1   AGE             714 non-null    object \n",
      " 2   CARD_SIDO_NM    714 non-null    object \n",
      " 3   REG_YYMM        714 non-null    int64  \n",
      " 4   confirmed_case  314 non-null    float64\n",
      "dtypes: float64(1), int64(2), object(2)\n",
      "memory usage: 33.5+ KB\n"
     ]
    }
   ],
   "source": [
    "data.info()"
   ]
  },
  {
   "cell_type": "code",
   "execution_count": 58,
   "metadata": {
    "scrolled": true
   },
   "outputs": [
    {
     "data": {
      "text/plain": [
       "714"
      ]
     },
     "execution_count": 58,
     "metadata": {},
     "output_type": "execute_result"
    }
   ],
   "source": [
    "len(data)  ## 2*7*17*3=714 만족, 대신 없는 경우의 수는 NaN으로 표현됨"
   ]
  },
  {
   "cell_type": "code",
   "execution_count": 59,
   "metadata": {},
   "outputs": [
    {
     "data": {
      "text/plain": [
       "SEX_CTGO_CD         0\n",
       "AGE                 0\n",
       "CARD_SIDO_NM        0\n",
       "REG_YYMM            0\n",
       "confirmed_case    400\n",
       "dtype: int64"
      ]
     },
     "execution_count": 59,
     "metadata": {},
     "output_type": "execute_result"
    }
   ],
   "source": [
    "data.isnull().sum() ## null 값은 확진자가 없는 경우의 수이므로 0으로 값 치환"
   ]
  },
  {
   "cell_type": "code",
   "execution_count": 60,
   "metadata": {},
   "outputs": [],
   "source": [
    "data = data.fillna(int(0))"
   ]
  },
  {
   "cell_type": "code",
   "execution_count": 61,
   "metadata": {
    "scrolled": true
   },
   "outputs": [
    {
     "data": {
      "text/plain": [
       "SEX_CTGO_CD       0\n",
       "AGE               0\n",
       "CARD_SIDO_NM      0\n",
       "REG_YYMM          0\n",
       "confirmed_case    0\n",
       "dtype: int64"
      ]
     },
     "execution_count": 61,
     "metadata": {},
     "output_type": "execute_result"
    }
   ],
   "source": [
    "data.isnull().sum() ## 널값 사라짐"
   ]
  },
  {
   "cell_type": "code",
   "execution_count": 62,
   "metadata": {},
   "outputs": [],
   "source": [
    "int_features = ['confirmed_case'] ## 병합하기 위해 두 데이터프레임의 타입을 맞춤\n",
    "\n",
    "for i in enumerate(int_features) :\n",
    "    ca = i[1]\n",
    "    data[ca] = data[ca].astype('int')"
   ]
  },
  {
   "cell_type": "code",
   "execution_count": 63,
   "metadata": {
    "scrolled": true
   },
   "outputs": [
    {
     "name": "stdout",
     "output_type": "stream",
     "text": [
      "<class 'pandas.core.frame.DataFrame'>\n",
      "Int64Index: 714 entries, 0 to 713\n",
      "Data columns (total 5 columns):\n",
      " #   Column          Non-Null Count  Dtype \n",
      "---  ------          --------------  ----- \n",
      " 0   SEX_CTGO_CD     714 non-null    int64 \n",
      " 1   AGE             714 non-null    object\n",
      " 2   CARD_SIDO_NM    714 non-null    object\n",
      " 3   REG_YYMM        714 non-null    int64 \n",
      " 4   confirmed_case  714 non-null    int32 \n",
      "dtypes: int32(1), int64(2), object(2)\n",
      "memory usage: 30.7+ KB\n"
     ]
    }
   ],
   "source": [
    "data.info()"
   ]
  },
  {
   "cell_type": "code",
   "execution_count": 64,
   "metadata": {
    "scrolled": true
   },
   "outputs": [
    {
     "data": {
      "text/html": [
       "<div>\n",
       "<style scoped>\n",
       "    .dataframe tbody tr th:only-of-type {\n",
       "        vertical-align: middle;\n",
       "    }\n",
       "\n",
       "    .dataframe tbody tr th {\n",
       "        vertical-align: top;\n",
       "    }\n",
       "\n",
       "    .dataframe thead th {\n",
       "        text-align: right;\n",
       "    }\n",
       "</style>\n",
       "<table border=\"1\" class=\"dataframe\">\n",
       "  <thead>\n",
       "    <tr style=\"text-align: right;\">\n",
       "      <th></th>\n",
       "      <th>SEX_CTGO_CD</th>\n",
       "      <th>AGE</th>\n",
       "      <th>CARD_SIDO_NM</th>\n",
       "      <th>REG_YYMM</th>\n",
       "      <th>confirmed_case</th>\n",
       "    </tr>\n",
       "  </thead>\n",
       "  <tbody>\n",
       "    <tr>\n",
       "      <th>0</th>\n",
       "      <td>1</td>\n",
       "      <td>10s</td>\n",
       "      <td>경기</td>\n",
       "      <td>202003</td>\n",
       "      <td>12</td>\n",
       "    </tr>\n",
       "    <tr>\n",
       "      <th>1</th>\n",
       "      <td>1</td>\n",
       "      <td>10s</td>\n",
       "      <td>경남</td>\n",
       "      <td>202002</td>\n",
       "      <td>2</td>\n",
       "    </tr>\n",
       "    <tr>\n",
       "      <th>2</th>\n",
       "      <td>1</td>\n",
       "      <td>10s</td>\n",
       "      <td>경북</td>\n",
       "      <td>202002</td>\n",
       "      <td>5</td>\n",
       "    </tr>\n",
       "    <tr>\n",
       "      <th>3</th>\n",
       "      <td>1</td>\n",
       "      <td>10s</td>\n",
       "      <td>경북</td>\n",
       "      <td>202003</td>\n",
       "      <td>17</td>\n",
       "    </tr>\n",
       "    <tr>\n",
       "      <th>4</th>\n",
       "      <td>1</td>\n",
       "      <td>10s</td>\n",
       "      <td>대전</td>\n",
       "      <td>202003</td>\n",
       "      <td>1</td>\n",
       "    </tr>\n",
       "  </tbody>\n",
       "</table>\n",
       "</div>"
      ],
      "text/plain": [
       "   SEX_CTGO_CD  AGE CARD_SIDO_NM  REG_YYMM  confirmed_case\n",
       "0            1  10s           경기    202003              12\n",
       "1            1  10s           경남    202002               2\n",
       "2            1  10s           경북    202002               5\n",
       "3            1  10s           경북    202003              17\n",
       "4            1  10s           대전    202003               1"
      ]
     },
     "execution_count": 64,
     "metadata": {},
     "output_type": "execute_result"
    }
   ],
   "source": [
    "data.head() ## 모든 경우의 수에 대한 각 피처별 확진자 수"
   ]
  },
  {
   "cell_type": "code",
   "execution_count": 65,
   "metadata": {},
   "outputs": [],
   "source": [
    "## 추가 피처 : 2개월 누적 확진자, 3개월 누적 확진자"
   ]
  },
  {
   "cell_type": "code",
   "execution_count": 66,
   "metadata": {},
   "outputs": [],
   "source": [
    "def jan_accum(date, count) :\n",
    "    if date == 202001 :\n",
    "        return int(count)\n",
    "\n",
    "data['jan_accum'] = data.apply(lambda x: jan_accum(x.REG_YYMM, x.confirmed_case), axis = 1)"
   ]
  },
  {
   "cell_type": "code",
   "execution_count": 67,
   "metadata": {
    "scrolled": true
   },
   "outputs": [
    {
     "data": {
      "text/html": [
       "<div>\n",
       "<style scoped>\n",
       "    .dataframe tbody tr th:only-of-type {\n",
       "        vertical-align: middle;\n",
       "    }\n",
       "\n",
       "    .dataframe tbody tr th {\n",
       "        vertical-align: top;\n",
       "    }\n",
       "\n",
       "    .dataframe thead th {\n",
       "        text-align: right;\n",
       "    }\n",
       "</style>\n",
       "<table border=\"1\" class=\"dataframe\">\n",
       "  <thead>\n",
       "    <tr style=\"text-align: right;\">\n",
       "      <th></th>\n",
       "      <th>SEX_CTGO_CD</th>\n",
       "      <th>AGE</th>\n",
       "      <th>CARD_SIDO_NM</th>\n",
       "      <th>REG_YYMM</th>\n",
       "      <th>confirmed_case</th>\n",
       "      <th>jan_accum</th>\n",
       "    </tr>\n",
       "  </thead>\n",
       "  <tbody>\n",
       "    <tr>\n",
       "      <th>0</th>\n",
       "      <td>1</td>\n",
       "      <td>10s</td>\n",
       "      <td>경기</td>\n",
       "      <td>202003</td>\n",
       "      <td>12</td>\n",
       "      <td>NaN</td>\n",
       "    </tr>\n",
       "    <tr>\n",
       "      <th>1</th>\n",
       "      <td>1</td>\n",
       "      <td>10s</td>\n",
       "      <td>경남</td>\n",
       "      <td>202002</td>\n",
       "      <td>2</td>\n",
       "      <td>NaN</td>\n",
       "    </tr>\n",
       "    <tr>\n",
       "      <th>2</th>\n",
       "      <td>1</td>\n",
       "      <td>10s</td>\n",
       "      <td>경북</td>\n",
       "      <td>202002</td>\n",
       "      <td>5</td>\n",
       "      <td>NaN</td>\n",
       "    </tr>\n",
       "    <tr>\n",
       "      <th>3</th>\n",
       "      <td>1</td>\n",
       "      <td>10s</td>\n",
       "      <td>경북</td>\n",
       "      <td>202003</td>\n",
       "      <td>17</td>\n",
       "      <td>NaN</td>\n",
       "    </tr>\n",
       "    <tr>\n",
       "      <th>4</th>\n",
       "      <td>1</td>\n",
       "      <td>10s</td>\n",
       "      <td>대전</td>\n",
       "      <td>202003</td>\n",
       "      <td>1</td>\n",
       "      <td>NaN</td>\n",
       "    </tr>\n",
       "  </tbody>\n",
       "</table>\n",
       "</div>"
      ],
      "text/plain": [
       "   SEX_CTGO_CD  AGE CARD_SIDO_NM  REG_YYMM  confirmed_case  jan_accum\n",
       "0            1  10s           경기    202003              12        NaN\n",
       "1            1  10s           경남    202002               2        NaN\n",
       "2            1  10s           경북    202002               5        NaN\n",
       "3            1  10s           경북    202003              17        NaN\n",
       "4            1  10s           대전    202003               1        NaN"
      ]
     },
     "execution_count": 67,
     "metadata": {},
     "output_type": "execute_result"
    }
   ],
   "source": [
    "data.head()"
   ]
  },
  {
   "cell_type": "code",
   "execution_count": 68,
   "metadata": {
    "scrolled": true
   },
   "outputs": [
    {
     "name": "stdout",
     "output_type": "stream",
     "text": [
      "<class 'pandas.core.frame.DataFrame'>\n",
      "Int64Index: 714 entries, 0 to 713\n",
      "Data columns (total 6 columns):\n",
      " #   Column          Non-Null Count  Dtype  \n",
      "---  ------          --------------  -----  \n",
      " 0   SEX_CTGO_CD     714 non-null    int64  \n",
      " 1   AGE             714 non-null    object \n",
      " 2   CARD_SIDO_NM    714 non-null    object \n",
      " 3   REG_YYMM        714 non-null    int64  \n",
      " 4   confirmed_case  714 non-null    int32  \n",
      " 5   jan_accum       238 non-null    float64\n",
      "dtypes: float64(1), int32(1), int64(2), object(2)\n",
      "memory usage: 36.3+ KB\n"
     ]
    }
   ],
   "source": [
    "data.info()"
   ]
  },
  {
   "cell_type": "code",
   "execution_count": 69,
   "metadata": {},
   "outputs": [],
   "source": [
    "data = data.fillna(int(0))"
   ]
  },
  {
   "cell_type": "code",
   "execution_count": 70,
   "metadata": {
    "scrolled": false
   },
   "outputs": [
    {
     "data": {
      "text/html": [
       "<div>\n",
       "<style scoped>\n",
       "    .dataframe tbody tr th:only-of-type {\n",
       "        vertical-align: middle;\n",
       "    }\n",
       "\n",
       "    .dataframe tbody tr th {\n",
       "        vertical-align: top;\n",
       "    }\n",
       "\n",
       "    .dataframe thead th {\n",
       "        text-align: right;\n",
       "    }\n",
       "</style>\n",
       "<table border=\"1\" class=\"dataframe\">\n",
       "  <thead>\n",
       "    <tr style=\"text-align: right;\">\n",
       "      <th></th>\n",
       "      <th>SEX_CTGO_CD</th>\n",
       "      <th>AGE</th>\n",
       "      <th>CARD_SIDO_NM</th>\n",
       "      <th>REG_YYMM</th>\n",
       "      <th>confirmed_case</th>\n",
       "      <th>jan_accum</th>\n",
       "    </tr>\n",
       "  </thead>\n",
       "  <tbody>\n",
       "    <tr>\n",
       "      <th>0</th>\n",
       "      <td>1</td>\n",
       "      <td>10s</td>\n",
       "      <td>경기</td>\n",
       "      <td>202003</td>\n",
       "      <td>12</td>\n",
       "      <td>0.0</td>\n",
       "    </tr>\n",
       "    <tr>\n",
       "      <th>1</th>\n",
       "      <td>1</td>\n",
       "      <td>10s</td>\n",
       "      <td>경남</td>\n",
       "      <td>202002</td>\n",
       "      <td>2</td>\n",
       "      <td>0.0</td>\n",
       "    </tr>\n",
       "    <tr>\n",
       "      <th>2</th>\n",
       "      <td>1</td>\n",
       "      <td>10s</td>\n",
       "      <td>경북</td>\n",
       "      <td>202002</td>\n",
       "      <td>5</td>\n",
       "      <td>0.0</td>\n",
       "    </tr>\n",
       "    <tr>\n",
       "      <th>3</th>\n",
       "      <td>1</td>\n",
       "      <td>10s</td>\n",
       "      <td>경북</td>\n",
       "      <td>202003</td>\n",
       "      <td>17</td>\n",
       "      <td>0.0</td>\n",
       "    </tr>\n",
       "    <tr>\n",
       "      <th>4</th>\n",
       "      <td>1</td>\n",
       "      <td>10s</td>\n",
       "      <td>대전</td>\n",
       "      <td>202003</td>\n",
       "      <td>1</td>\n",
       "      <td>0.0</td>\n",
       "    </tr>\n",
       "  </tbody>\n",
       "</table>\n",
       "</div>"
      ],
      "text/plain": [
       "   SEX_CTGO_CD  AGE CARD_SIDO_NM  REG_YYMM  confirmed_case  jan_accum\n",
       "0            1  10s           경기    202003              12        0.0\n",
       "1            1  10s           경남    202002               2        0.0\n",
       "2            1  10s           경북    202002               5        0.0\n",
       "3            1  10s           경북    202003              17        0.0\n",
       "4            1  10s           대전    202003               1        0.0"
      ]
     },
     "execution_count": 70,
     "metadata": {},
     "output_type": "execute_result"
    }
   ],
   "source": [
    "data.head()"
   ]
  },
  {
   "cell_type": "code",
   "execution_count": 71,
   "metadata": {},
   "outputs": [
    {
     "data": {
      "text/plain": [
       "{0.0, 1.0, 2.0}"
      ]
     },
     "execution_count": 71,
     "metadata": {},
     "output_type": "execute_result"
    }
   ],
   "source": [
    "set(data['jan_accum'])"
   ]
  },
  {
   "cell_type": "code",
   "execution_count": 72,
   "metadata": {},
   "outputs": [],
   "source": [
    "data = data.astype({'jan_accum' : 'int'})"
   ]
  },
  {
   "cell_type": "code",
   "execution_count": 73,
   "metadata": {},
   "outputs": [],
   "source": [
    "def feb_accum(sex,age,sido,date,feb_count ) :\n",
    "\n",
    "    if date == 202002 :\n",
    "        accum = data.loc[(data[\"SEX_CTGO_CD\"]==sex) & (data[\"AGE\"]==age ) & (data['CARD_SIDO_NM'] ==sido)& (data['REG_YYMM'] == 202001), \"jan_accum\"]\n",
    "        return int(accum) + int(feb_count)\n",
    "\n",
    "data['feb_accum'] = data.apply(lambda x: feb_accum(x.SEX_CTGO_CD, x.AGE, x.CARD_SIDO_NM, x.REG_YYMM, x.confirmed_case), axis = 1)"
   ]
  },
  {
   "cell_type": "code",
   "execution_count": 74,
   "metadata": {
    "scrolled": true
   },
   "outputs": [
    {
     "data": {
      "text/html": [
       "<div>\n",
       "<style scoped>\n",
       "    .dataframe tbody tr th:only-of-type {\n",
       "        vertical-align: middle;\n",
       "    }\n",
       "\n",
       "    .dataframe tbody tr th {\n",
       "        vertical-align: top;\n",
       "    }\n",
       "\n",
       "    .dataframe thead th {\n",
       "        text-align: right;\n",
       "    }\n",
       "</style>\n",
       "<table border=\"1\" class=\"dataframe\">\n",
       "  <thead>\n",
       "    <tr style=\"text-align: right;\">\n",
       "      <th></th>\n",
       "      <th>SEX_CTGO_CD</th>\n",
       "      <th>AGE</th>\n",
       "      <th>CARD_SIDO_NM</th>\n",
       "      <th>REG_YYMM</th>\n",
       "      <th>confirmed_case</th>\n",
       "      <th>jan_accum</th>\n",
       "      <th>feb_accum</th>\n",
       "    </tr>\n",
       "  </thead>\n",
       "  <tbody>\n",
       "    <tr>\n",
       "      <th>0</th>\n",
       "      <td>1</td>\n",
       "      <td>10s</td>\n",
       "      <td>경기</td>\n",
       "      <td>202003</td>\n",
       "      <td>12</td>\n",
       "      <td>0</td>\n",
       "      <td>NaN</td>\n",
       "    </tr>\n",
       "    <tr>\n",
       "      <th>1</th>\n",
       "      <td>1</td>\n",
       "      <td>10s</td>\n",
       "      <td>경남</td>\n",
       "      <td>202002</td>\n",
       "      <td>2</td>\n",
       "      <td>0</td>\n",
       "      <td>2.0</td>\n",
       "    </tr>\n",
       "    <tr>\n",
       "      <th>2</th>\n",
       "      <td>1</td>\n",
       "      <td>10s</td>\n",
       "      <td>경북</td>\n",
       "      <td>202002</td>\n",
       "      <td>5</td>\n",
       "      <td>0</td>\n",
       "      <td>5.0</td>\n",
       "    </tr>\n",
       "    <tr>\n",
       "      <th>3</th>\n",
       "      <td>1</td>\n",
       "      <td>10s</td>\n",
       "      <td>경북</td>\n",
       "      <td>202003</td>\n",
       "      <td>17</td>\n",
       "      <td>0</td>\n",
       "      <td>NaN</td>\n",
       "    </tr>\n",
       "    <tr>\n",
       "      <th>4</th>\n",
       "      <td>1</td>\n",
       "      <td>10s</td>\n",
       "      <td>대전</td>\n",
       "      <td>202003</td>\n",
       "      <td>1</td>\n",
       "      <td>0</td>\n",
       "      <td>NaN</td>\n",
       "    </tr>\n",
       "  </tbody>\n",
       "</table>\n",
       "</div>"
      ],
      "text/plain": [
       "   SEX_CTGO_CD  AGE CARD_SIDO_NM  REG_YYMM  confirmed_case  jan_accum  \\\n",
       "0            1  10s           경기    202003              12          0   \n",
       "1            1  10s           경남    202002               2          0   \n",
       "2            1  10s           경북    202002               5          0   \n",
       "3            1  10s           경북    202003              17          0   \n",
       "4            1  10s           대전    202003               1          0   \n",
       "\n",
       "   feb_accum  \n",
       "0        NaN  \n",
       "1        2.0  \n",
       "2        5.0  \n",
       "3        NaN  \n",
       "4        NaN  "
      ]
     },
     "execution_count": 74,
     "metadata": {},
     "output_type": "execute_result"
    }
   ],
   "source": [
    "data.head()"
   ]
  },
  {
   "cell_type": "code",
   "execution_count": 75,
   "metadata": {},
   "outputs": [],
   "source": [
    "data = data.fillna(int(0))"
   ]
  },
  {
   "cell_type": "code",
   "execution_count": 76,
   "metadata": {},
   "outputs": [],
   "source": [
    "data = data.astype({'feb_accum' : 'int'})"
   ]
  },
  {
   "cell_type": "code",
   "execution_count": 77,
   "metadata": {},
   "outputs": [
    {
     "data": {
      "text/html": [
       "<div>\n",
       "<style scoped>\n",
       "    .dataframe tbody tr th:only-of-type {\n",
       "        vertical-align: middle;\n",
       "    }\n",
       "\n",
       "    .dataframe tbody tr th {\n",
       "        vertical-align: top;\n",
       "    }\n",
       "\n",
       "    .dataframe thead th {\n",
       "        text-align: right;\n",
       "    }\n",
       "</style>\n",
       "<table border=\"1\" class=\"dataframe\">\n",
       "  <thead>\n",
       "    <tr style=\"text-align: right;\">\n",
       "      <th></th>\n",
       "      <th>SEX_CTGO_CD</th>\n",
       "      <th>AGE</th>\n",
       "      <th>CARD_SIDO_NM</th>\n",
       "      <th>REG_YYMM</th>\n",
       "      <th>confirmed_case</th>\n",
       "      <th>jan_accum</th>\n",
       "      <th>feb_accum</th>\n",
       "    </tr>\n",
       "  </thead>\n",
       "  <tbody>\n",
       "    <tr>\n",
       "      <th>0</th>\n",
       "      <td>1</td>\n",
       "      <td>10s</td>\n",
       "      <td>경기</td>\n",
       "      <td>202003</td>\n",
       "      <td>12</td>\n",
       "      <td>0</td>\n",
       "      <td>0</td>\n",
       "    </tr>\n",
       "    <tr>\n",
       "      <th>1</th>\n",
       "      <td>1</td>\n",
       "      <td>10s</td>\n",
       "      <td>경남</td>\n",
       "      <td>202002</td>\n",
       "      <td>2</td>\n",
       "      <td>0</td>\n",
       "      <td>2</td>\n",
       "    </tr>\n",
       "    <tr>\n",
       "      <th>2</th>\n",
       "      <td>1</td>\n",
       "      <td>10s</td>\n",
       "      <td>경북</td>\n",
       "      <td>202002</td>\n",
       "      <td>5</td>\n",
       "      <td>0</td>\n",
       "      <td>5</td>\n",
       "    </tr>\n",
       "    <tr>\n",
       "      <th>3</th>\n",
       "      <td>1</td>\n",
       "      <td>10s</td>\n",
       "      <td>경북</td>\n",
       "      <td>202003</td>\n",
       "      <td>17</td>\n",
       "      <td>0</td>\n",
       "      <td>0</td>\n",
       "    </tr>\n",
       "    <tr>\n",
       "      <th>4</th>\n",
       "      <td>1</td>\n",
       "      <td>10s</td>\n",
       "      <td>대전</td>\n",
       "      <td>202003</td>\n",
       "      <td>1</td>\n",
       "      <td>0</td>\n",
       "      <td>0</td>\n",
       "    </tr>\n",
       "  </tbody>\n",
       "</table>\n",
       "</div>"
      ],
      "text/plain": [
       "   SEX_CTGO_CD  AGE CARD_SIDO_NM  REG_YYMM  confirmed_case  jan_accum  \\\n",
       "0            1  10s           경기    202003              12          0   \n",
       "1            1  10s           경남    202002               2          0   \n",
       "2            1  10s           경북    202002               5          0   \n",
       "3            1  10s           경북    202003              17          0   \n",
       "4            1  10s           대전    202003               1          0   \n",
       "\n",
       "   feb_accum  \n",
       "0          0  \n",
       "1          2  \n",
       "2          5  \n",
       "3          0  \n",
       "4          0  "
      ]
     },
     "execution_count": 77,
     "metadata": {},
     "output_type": "execute_result"
    }
   ],
   "source": [
    "data.head()"
   ]
  },
  {
   "cell_type": "code",
   "execution_count": 78,
   "metadata": {},
   "outputs": [],
   "source": [
    "def mar_accum(sex,age,sido,date,mar_count ) :\n",
    "\n",
    "    if date == 202003 :\n",
    "        accum = data.loc[(data[\"SEX_CTGO_CD\"]==sex) & (data[\"AGE\"]==age ) & (data['CARD_SIDO_NM'] ==sido)& (data['REG_YYMM'] == 202002), \"feb_accum\"]\n",
    "        return int(accum) + int(mar_count)\n",
    "\n",
    "data['mar_accum'] = data.apply(lambda x: mar_accum(x.SEX_CTGO_CD, x.AGE, x.CARD_SIDO_NM, x.REG_YYMM, x.confirmed_case), axis = 1)"
   ]
  },
  {
   "cell_type": "code",
   "execution_count": 79,
   "metadata": {
    "scrolled": true
   },
   "outputs": [
    {
     "data": {
      "text/html": [
       "<div>\n",
       "<style scoped>\n",
       "    .dataframe tbody tr th:only-of-type {\n",
       "        vertical-align: middle;\n",
       "    }\n",
       "\n",
       "    .dataframe tbody tr th {\n",
       "        vertical-align: top;\n",
       "    }\n",
       "\n",
       "    .dataframe thead th {\n",
       "        text-align: right;\n",
       "    }\n",
       "</style>\n",
       "<table border=\"1\" class=\"dataframe\">\n",
       "  <thead>\n",
       "    <tr style=\"text-align: right;\">\n",
       "      <th></th>\n",
       "      <th>SEX_CTGO_CD</th>\n",
       "      <th>AGE</th>\n",
       "      <th>CARD_SIDO_NM</th>\n",
       "      <th>REG_YYMM</th>\n",
       "      <th>confirmed_case</th>\n",
       "      <th>jan_accum</th>\n",
       "      <th>feb_accum</th>\n",
       "      <th>mar_accum</th>\n",
       "    </tr>\n",
       "  </thead>\n",
       "  <tbody>\n",
       "    <tr>\n",
       "      <th>0</th>\n",
       "      <td>1</td>\n",
       "      <td>10s</td>\n",
       "      <td>경기</td>\n",
       "      <td>202003</td>\n",
       "      <td>12</td>\n",
       "      <td>0</td>\n",
       "      <td>0</td>\n",
       "      <td>12.0</td>\n",
       "    </tr>\n",
       "    <tr>\n",
       "      <th>1</th>\n",
       "      <td>1</td>\n",
       "      <td>10s</td>\n",
       "      <td>경남</td>\n",
       "      <td>202002</td>\n",
       "      <td>2</td>\n",
       "      <td>0</td>\n",
       "      <td>2</td>\n",
       "      <td>NaN</td>\n",
       "    </tr>\n",
       "    <tr>\n",
       "      <th>2</th>\n",
       "      <td>1</td>\n",
       "      <td>10s</td>\n",
       "      <td>경북</td>\n",
       "      <td>202002</td>\n",
       "      <td>5</td>\n",
       "      <td>0</td>\n",
       "      <td>5</td>\n",
       "      <td>NaN</td>\n",
       "    </tr>\n",
       "    <tr>\n",
       "      <th>3</th>\n",
       "      <td>1</td>\n",
       "      <td>10s</td>\n",
       "      <td>경북</td>\n",
       "      <td>202003</td>\n",
       "      <td>17</td>\n",
       "      <td>0</td>\n",
       "      <td>0</td>\n",
       "      <td>22.0</td>\n",
       "    </tr>\n",
       "    <tr>\n",
       "      <th>4</th>\n",
       "      <td>1</td>\n",
       "      <td>10s</td>\n",
       "      <td>대전</td>\n",
       "      <td>202003</td>\n",
       "      <td>1</td>\n",
       "      <td>0</td>\n",
       "      <td>0</td>\n",
       "      <td>1.0</td>\n",
       "    </tr>\n",
       "  </tbody>\n",
       "</table>\n",
       "</div>"
      ],
      "text/plain": [
       "   SEX_CTGO_CD  AGE CARD_SIDO_NM  REG_YYMM  confirmed_case  jan_accum  \\\n",
       "0            1  10s           경기    202003              12          0   \n",
       "1            1  10s           경남    202002               2          0   \n",
       "2            1  10s           경북    202002               5          0   \n",
       "3            1  10s           경북    202003              17          0   \n",
       "4            1  10s           대전    202003               1          0   \n",
       "\n",
       "   feb_accum  mar_accum  \n",
       "0          0       12.0  \n",
       "1          2        NaN  \n",
       "2          5        NaN  \n",
       "3          0       22.0  \n",
       "4          0        1.0  "
      ]
     },
     "execution_count": 79,
     "metadata": {},
     "output_type": "execute_result"
    }
   ],
   "source": [
    "data.head()"
   ]
  },
  {
   "cell_type": "code",
   "execution_count": 80,
   "metadata": {},
   "outputs": [],
   "source": [
    "data = data.fillna(int(0))"
   ]
  },
  {
   "cell_type": "code",
   "execution_count": 81,
   "metadata": {
    "scrolled": true
   },
   "outputs": [
    {
     "data": {
      "text/html": [
       "<div>\n",
       "<style scoped>\n",
       "    .dataframe tbody tr th:only-of-type {\n",
       "        vertical-align: middle;\n",
       "    }\n",
       "\n",
       "    .dataframe tbody tr th {\n",
       "        vertical-align: top;\n",
       "    }\n",
       "\n",
       "    .dataframe thead th {\n",
       "        text-align: right;\n",
       "    }\n",
       "</style>\n",
       "<table border=\"1\" class=\"dataframe\">\n",
       "  <thead>\n",
       "    <tr style=\"text-align: right;\">\n",
       "      <th></th>\n",
       "      <th>SEX_CTGO_CD</th>\n",
       "      <th>AGE</th>\n",
       "      <th>CARD_SIDO_NM</th>\n",
       "      <th>REG_YYMM</th>\n",
       "      <th>confirmed_case</th>\n",
       "      <th>jan_accum</th>\n",
       "      <th>feb_accum</th>\n",
       "      <th>mar_accum</th>\n",
       "    </tr>\n",
       "  </thead>\n",
       "  <tbody>\n",
       "    <tr>\n",
       "      <th>0</th>\n",
       "      <td>1</td>\n",
       "      <td>10s</td>\n",
       "      <td>경기</td>\n",
       "      <td>202003</td>\n",
       "      <td>12</td>\n",
       "      <td>0</td>\n",
       "      <td>0</td>\n",
       "      <td>12.0</td>\n",
       "    </tr>\n",
       "    <tr>\n",
       "      <th>1</th>\n",
       "      <td>1</td>\n",
       "      <td>10s</td>\n",
       "      <td>경남</td>\n",
       "      <td>202002</td>\n",
       "      <td>2</td>\n",
       "      <td>0</td>\n",
       "      <td>2</td>\n",
       "      <td>0.0</td>\n",
       "    </tr>\n",
       "    <tr>\n",
       "      <th>2</th>\n",
       "      <td>1</td>\n",
       "      <td>10s</td>\n",
       "      <td>경북</td>\n",
       "      <td>202002</td>\n",
       "      <td>5</td>\n",
       "      <td>0</td>\n",
       "      <td>5</td>\n",
       "      <td>0.0</td>\n",
       "    </tr>\n",
       "    <tr>\n",
       "      <th>3</th>\n",
       "      <td>1</td>\n",
       "      <td>10s</td>\n",
       "      <td>경북</td>\n",
       "      <td>202003</td>\n",
       "      <td>17</td>\n",
       "      <td>0</td>\n",
       "      <td>0</td>\n",
       "      <td>22.0</td>\n",
       "    </tr>\n",
       "    <tr>\n",
       "      <th>4</th>\n",
       "      <td>1</td>\n",
       "      <td>10s</td>\n",
       "      <td>대전</td>\n",
       "      <td>202003</td>\n",
       "      <td>1</td>\n",
       "      <td>0</td>\n",
       "      <td>0</td>\n",
       "      <td>1.0</td>\n",
       "    </tr>\n",
       "  </tbody>\n",
       "</table>\n",
       "</div>"
      ],
      "text/plain": [
       "   SEX_CTGO_CD  AGE CARD_SIDO_NM  REG_YYMM  confirmed_case  jan_accum  \\\n",
       "0            1  10s           경기    202003              12          0   \n",
       "1            1  10s           경남    202002               2          0   \n",
       "2            1  10s           경북    202002               5          0   \n",
       "3            1  10s           경북    202003              17          0   \n",
       "4            1  10s           대전    202003               1          0   \n",
       "\n",
       "   feb_accum  mar_accum  \n",
       "0          0       12.0  \n",
       "1          2        0.0  \n",
       "2          5        0.0  \n",
       "3          0       22.0  \n",
       "4          0        1.0  "
      ]
     },
     "execution_count": 81,
     "metadata": {},
     "output_type": "execute_result"
    }
   ],
   "source": [
    "data.head()"
   ]
  },
  {
   "cell_type": "code",
   "execution_count": 82,
   "metadata": {},
   "outputs": [],
   "source": [
    "data = data.astype({'mar_accum' : 'int'})"
   ]
  },
  {
   "cell_type": "code",
   "execution_count": 83,
   "metadata": {
    "scrolled": true
   },
   "outputs": [
    {
     "data": {
      "text/html": [
       "<div>\n",
       "<style scoped>\n",
       "    .dataframe tbody tr th:only-of-type {\n",
       "        vertical-align: middle;\n",
       "    }\n",
       "\n",
       "    .dataframe tbody tr th {\n",
       "        vertical-align: top;\n",
       "    }\n",
       "\n",
       "    .dataframe thead th {\n",
       "        text-align: right;\n",
       "    }\n",
       "</style>\n",
       "<table border=\"1\" class=\"dataframe\">\n",
       "  <thead>\n",
       "    <tr style=\"text-align: right;\">\n",
       "      <th></th>\n",
       "      <th>SEX_CTGO_CD</th>\n",
       "      <th>AGE</th>\n",
       "      <th>CARD_SIDO_NM</th>\n",
       "      <th>REG_YYMM</th>\n",
       "      <th>confirmed_case</th>\n",
       "      <th>jan_accum</th>\n",
       "      <th>feb_accum</th>\n",
       "      <th>mar_accum</th>\n",
       "    </tr>\n",
       "  </thead>\n",
       "  <tbody>\n",
       "    <tr>\n",
       "      <th>0</th>\n",
       "      <td>1</td>\n",
       "      <td>10s</td>\n",
       "      <td>경기</td>\n",
       "      <td>202003</td>\n",
       "      <td>12</td>\n",
       "      <td>0</td>\n",
       "      <td>0</td>\n",
       "      <td>12</td>\n",
       "    </tr>\n",
       "    <tr>\n",
       "      <th>1</th>\n",
       "      <td>1</td>\n",
       "      <td>10s</td>\n",
       "      <td>경남</td>\n",
       "      <td>202002</td>\n",
       "      <td>2</td>\n",
       "      <td>0</td>\n",
       "      <td>2</td>\n",
       "      <td>0</td>\n",
       "    </tr>\n",
       "    <tr>\n",
       "      <th>2</th>\n",
       "      <td>1</td>\n",
       "      <td>10s</td>\n",
       "      <td>경북</td>\n",
       "      <td>202002</td>\n",
       "      <td>5</td>\n",
       "      <td>0</td>\n",
       "      <td>5</td>\n",
       "      <td>0</td>\n",
       "    </tr>\n",
       "    <tr>\n",
       "      <th>3</th>\n",
       "      <td>1</td>\n",
       "      <td>10s</td>\n",
       "      <td>경북</td>\n",
       "      <td>202003</td>\n",
       "      <td>17</td>\n",
       "      <td>0</td>\n",
       "      <td>0</td>\n",
       "      <td>22</td>\n",
       "    </tr>\n",
       "    <tr>\n",
       "      <th>4</th>\n",
       "      <td>1</td>\n",
       "      <td>10s</td>\n",
       "      <td>대전</td>\n",
       "      <td>202003</td>\n",
       "      <td>1</td>\n",
       "      <td>0</td>\n",
       "      <td>0</td>\n",
       "      <td>1</td>\n",
       "    </tr>\n",
       "  </tbody>\n",
       "</table>\n",
       "</div>"
      ],
      "text/plain": [
       "   SEX_CTGO_CD  AGE CARD_SIDO_NM  REG_YYMM  confirmed_case  jan_accum  \\\n",
       "0            1  10s           경기    202003              12          0   \n",
       "1            1  10s           경남    202002               2          0   \n",
       "2            1  10s           경북    202002               5          0   \n",
       "3            1  10s           경북    202003              17          0   \n",
       "4            1  10s           대전    202003               1          0   \n",
       "\n",
       "   feb_accum  mar_accum  \n",
       "0          0         12  \n",
       "1          2          0  \n",
       "2          5          0  \n",
       "3          0         22  \n",
       "4          0          1  "
      ]
     },
     "execution_count": 83,
     "metadata": {},
     "output_type": "execute_result"
    }
   ],
   "source": [
    "data.head()"
   ]
  },
  {
   "cell_type": "code",
   "execution_count": 84,
   "metadata": {},
   "outputs": [
    {
     "name": "stdout",
     "output_type": "stream",
     "text": [
      "<class 'pandas.core.frame.DataFrame'>\n",
      "Int64Index: 714 entries, 0 to 713\n",
      "Data columns (total 8 columns):\n",
      " #   Column          Non-Null Count  Dtype \n",
      "---  ------          --------------  ----- \n",
      " 0   SEX_CTGO_CD     714 non-null    int64 \n",
      " 1   AGE             714 non-null    object\n",
      " 2   CARD_SIDO_NM    714 non-null    object\n",
      " 3   REG_YYMM        714 non-null    int64 \n",
      " 4   confirmed_case  714 non-null    int32 \n",
      " 5   jan_accum       714 non-null    int32 \n",
      " 6   feb_accum       714 non-null    int32 \n",
      " 7   mar_accum       714 non-null    int32 \n",
      "dtypes: int32(4), int64(2), object(2)\n",
      "memory usage: 39.0+ KB\n"
     ]
    }
   ],
   "source": [
    "data.info()"
   ]
  },
  {
   "cell_type": "code",
   "execution_count": 85,
   "metadata": {},
   "outputs": [],
   "source": [
    "def accum(jan, feb, mar) :\n",
    "    accum = jan + feb + mar\n",
    "    return accum\n",
    "    \n",
    "data['accum'] = data.apply(lambda x: accum(x.jan_accum, x.feb_accum, x.mar_accum), axis = 1)\n",
    "data = data.drop(['jan_accum', 'feb_accum', 'mar_accum'], axis=1)"
   ]
  },
  {
   "cell_type": "code",
   "execution_count": 86,
   "metadata": {},
   "outputs": [
    {
     "data": {
      "text/html": [
       "<div>\n",
       "<style scoped>\n",
       "    .dataframe tbody tr th:only-of-type {\n",
       "        vertical-align: middle;\n",
       "    }\n",
       "\n",
       "    .dataframe tbody tr th {\n",
       "        vertical-align: top;\n",
       "    }\n",
       "\n",
       "    .dataframe thead th {\n",
       "        text-align: right;\n",
       "    }\n",
       "</style>\n",
       "<table border=\"1\" class=\"dataframe\">\n",
       "  <thead>\n",
       "    <tr style=\"text-align: right;\">\n",
       "      <th></th>\n",
       "      <th>SEX_CTGO_CD</th>\n",
       "      <th>AGE</th>\n",
       "      <th>CARD_SIDO_NM</th>\n",
       "      <th>REG_YYMM</th>\n",
       "      <th>confirmed_case</th>\n",
       "      <th>accum</th>\n",
       "    </tr>\n",
       "  </thead>\n",
       "  <tbody>\n",
       "    <tr>\n",
       "      <th>0</th>\n",
       "      <td>1</td>\n",
       "      <td>10s</td>\n",
       "      <td>경기</td>\n",
       "      <td>202003</td>\n",
       "      <td>12</td>\n",
       "      <td>12</td>\n",
       "    </tr>\n",
       "    <tr>\n",
       "      <th>1</th>\n",
       "      <td>1</td>\n",
       "      <td>10s</td>\n",
       "      <td>경남</td>\n",
       "      <td>202002</td>\n",
       "      <td>2</td>\n",
       "      <td>2</td>\n",
       "    </tr>\n",
       "    <tr>\n",
       "      <th>2</th>\n",
       "      <td>1</td>\n",
       "      <td>10s</td>\n",
       "      <td>경북</td>\n",
       "      <td>202002</td>\n",
       "      <td>5</td>\n",
       "      <td>5</td>\n",
       "    </tr>\n",
       "    <tr>\n",
       "      <th>3</th>\n",
       "      <td>1</td>\n",
       "      <td>10s</td>\n",
       "      <td>경북</td>\n",
       "      <td>202003</td>\n",
       "      <td>17</td>\n",
       "      <td>22</td>\n",
       "    </tr>\n",
       "    <tr>\n",
       "      <th>4</th>\n",
       "      <td>1</td>\n",
       "      <td>10s</td>\n",
       "      <td>대전</td>\n",
       "      <td>202003</td>\n",
       "      <td>1</td>\n",
       "      <td>1</td>\n",
       "    </tr>\n",
       "  </tbody>\n",
       "</table>\n",
       "</div>"
      ],
      "text/plain": [
       "   SEX_CTGO_CD  AGE CARD_SIDO_NM  REG_YYMM  confirmed_case  accum\n",
       "0            1  10s           경기    202003              12     12\n",
       "1            1  10s           경남    202002               2      2\n",
       "2            1  10s           경북    202002               5      5\n",
       "3            1  10s           경북    202003              17     22\n",
       "4            1  10s           대전    202003               1      1"
      ]
     },
     "execution_count": 86,
     "metadata": {},
     "output_type": "execute_result"
    }
   ],
   "source": [
    "data.head()"
   ]
  },
  {
   "cell_type": "code",
   "execution_count": 87,
   "metadata": {},
   "outputs": [],
   "source": [
    "data.to_csv('accumulate.csv', encoding='utf-8-sig', index= False) ## 위의 그룹데이터를 우선 저장"
   ]
  },
  {
   "cell_type": "code",
   "execution_count": 88,
   "metadata": {
    "scrolled": true
   },
   "outputs": [
    {
     "name": "stdout",
     "output_type": "stream",
     "text": [
      "<class 'pandas.core.frame.DataFrame'>\n",
      "Int64Index: 714 entries, 0 to 713\n",
      "Data columns (total 6 columns):\n",
      " #   Column          Non-Null Count  Dtype \n",
      "---  ------          --------------  ----- \n",
      " 0   SEX_CTGO_CD     714 non-null    int64 \n",
      " 1   AGE             714 non-null    object\n",
      " 2   CARD_SIDO_NM    714 non-null    object\n",
      " 3   REG_YYMM        714 non-null    int64 \n",
      " 4   confirmed_case  714 non-null    int32 \n",
      " 5   accum           714 non-null    int64 \n",
      "dtypes: int32(1), int64(3), object(2)\n",
      "memory usage: 36.3+ KB\n"
     ]
    }
   ],
   "source": [
    "data.info()"
   ]
  }
 ],
 "metadata": {
  "kernelspec": {
   "display_name": "Python 3",
   "language": "python",
   "name": "python3"
  },
  "language_info": {
   "codemirror_mode": {
    "name": "ipython",
    "version": 3
   },
   "file_extension": ".py",
   "mimetype": "text/x-python",
   "name": "python",
   "nbconvert_exporter": "python",
   "pygments_lexer": "ipython3",
   "version": "3.7.6"
  }
 },
 "nbformat": 4,
 "nbformat_minor": 4
}
